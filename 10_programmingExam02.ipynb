{
 "cells": [
  {
   "attachments": {},
   "cell_type": "markdown",
   "metadata": {},
   "source": [
    "# EXAM 2: Afternoon Session\n",
    "\n",
    "Online Programming Test 2, 19 Mar 2022, 20:00-22:00\n",
    " "
   ]
  },
  {
   "attachments": {},
   "cell_type": "markdown",
   "metadata": {},
   "source": [
    "## Question 1"
   ]
  },
  {
   "attachments": {},
   "cell_type": "markdown",
   "metadata": {},
   "source": [
    "Here is an function to return the maximum value in a list of integers. There is an error in this function. Provide an input list for which maxbad produces an incorrect output.\n",
    "```\n",
    "def maxbad(l):\n",
    "  mymax = 0\n",
    "  for i in range(len(l)):\n",
    "    if l[i] > mymax:\n",
    "       mymax = l[i]\n",
    "  return(mymax)\n",
    "```\n",
    "Open up the code submission box below and write your test case where you would normally paste your code."
   ]
  },
  {
   "cell_type": "code",
   "execution_count": null,
   "metadata": {},
   "outputs": [],
   "source": [
    "myinput = '''\n",
    "[-1]\n",
    "'''\n",
    "\n",
    "def maxbad(l):\n",
    "  mymax = 0\n",
    "  for i in range(len(l)):\n",
    "    if l[i] > mymax:\n",
    "       mymax = l[i]\n",
    "  return(mymax)"
   ]
  },
  {
   "attachments": {},
   "cell_type": "markdown",
   "metadata": {},
   "source": [
    "## Question 2"
   ]
  },
  {
   "attachments": {},
   "cell_type": "markdown",
   "metadata": {},
   "source": [
    "Here is a function stablesortbad that takes a list of pairs of integers as input and sorts them by the second coordinate in each pair. A stable sort preserves the order of pairs that have an equal second coordinate. This is not a stable sort. Provide an input for which stablesortbad produces an output that is not stably sorted. Your input should be a list of pairs of integers of the form `[(i1,j1),(i2,j2),...,(in,jn)]`.\n",
    "```\n",
    "def stablesortbad(l):\n",
    "  for j in range(len(l)-1):\n",
    "    for i in range(len(l)-1):\n",
    "      if l[i][1] >= l[i+1][1]:\n",
    "        (l[i],l[i+1]) =  (l[i+1],l[i])\n",
    "  return(l)    \n",
    "```\n",
    "Open up the code submission box below and write your test case where you would normally paste your code. Your input should be a list of pairs of integers of the form `[(i1,j1),(i2,j2),...,(in,jn)]`."
   ]
  },
  {
   "cell_type": "code",
   "execution_count": null,
   "metadata": {},
   "outputs": [],
   "source": [
    "myinput = '''\n",
    "[(12,15),(5,9),(8,3),(77,15)]\n",
    "'''\n",
    "\n",
    "def stablesortbad(l):\n",
    "  for j in range(len(l)-1):\n",
    "    for i in range(len(l)-1):\n",
    "      if l[i][1] >= l[i+1][1]:\n",
    "        (l[i],l[i+1]) =  (l[i+1],l[i])\n",
    "  return(l)    \n",
    "    \n",
    "def stablesortgood(l):\n",
    "  for j in range(len(l)-1):\n",
    "    for i in range(len(l)-1):\n",
    "      if l[i][1] > l[i+1][1]:\n",
    "        (l[i],l[i+1]) =  (l[i+1],l[i])\n",
    "  return(l)    "
   ]
  },
  {
   "attachments": {},
   "cell_type": "markdown",
   "metadata": {},
   "source": [
    "## Question 3"
   ]
  },
  {
   "attachments": {},
   "cell_type": "markdown",
   "metadata": {},
   "source": [
    "Here is a function to compute the third smallest value in a list of **distinct** **integers**. All the integers are guaranteed to be below 1000000. You have to fill in the missing lines. You can assume that there are at least three numbers in the list.\n",
    "```\n",
    "def thirdmin(l):\n",
    "  (mymin,mysecondmin,mythirdmin) = (1000000,1000000,1000000)\n",
    "  for i in range(len(l)):\n",
    "  # Your code below this line\n",
    "\n",
    "\n",
    "  # Your code above this line\n",
    "  return(mythirdmin)\n",
    "```\n",
    "Open up the code submission box below and fill in the gap in the code. Ensure that you maintain correct indentation."
   ]
  },
  {
   "cell_type": "code",
   "execution_count": null,
   "metadata": {},
   "outputs": [],
   "source": [
    "def thirdmin(l):\n",
    "  (mymin,mysecondmin,mythirdmin) = (1000000,1000000,1000000)\n",
    "  for i in range(len(l)):\n",
    "    # Your code below this line\n",
    "    if i!= len(l)-1:\n",
    "      mythirdmin = None\n",
    "    else:\n",
    "      mythirdmin = sorted(l)[2]\n",
    "    # Your code above this line\n",
    "  return(mythirdmin)"
   ]
  },
  {
   "attachments": {},
   "cell_type": "markdown",
   "metadata": {},
   "source": [
    "## Question 4"
   ]
  },
  {
   "attachments": {},
   "cell_type": "markdown",
   "metadata": {},
   "source": [
    "Recall that the positions in a list of length `n` are `0,1,…,n-1`. We want to write a function `oddpositions(l)` that returns the elements at the odd positions in `l`. In other words, the function should return the list `[l[1],l[3],...]`. For instance `oddpositions([]) == []`, `oddpositions([7]) == []`, `oddpositions([8,11,8]) == [11]` and `oddpositions([19,3,44,44,3,19]) == [3,44,19]`. A recursive definition of oddpositions is given below. You have to fill in the missing argument for the recursive call.\n",
    "```\n",
    "def oddpositions(l):\n",
    "  if len(l) <= 1:\n",
    "    return([])\n",
    "  else:\n",
    "    return(...)\n",
    "```\n",
    "Open up the code submission box below and fill in the missing argument for the recursive call."
   ]
  },
  {
   "cell_type": "code",
   "execution_count": null,
   "metadata": {},
   "outputs": [],
   "source": [
    "def oddpositions(l):\n",
    "  if len(l) <= 1:\n",
    "    return([])\n",
    "  else:\n",
    "    return(\n",
    "       # Complete the recursive call below this line\n",
    "    [j for i,j in enumerate(l) if i%2 != 0]\n",
    "       # Complete the recursive call above this line\n",
    "    )"
   ]
  },
  {
   "attachments": {},
   "cell_type": "markdown",
   "metadata": {},
   "source": [
    "## Question 5"
   ]
  },
  {
   "attachments": {},
   "cell_type": "markdown",
   "metadata": {},
   "source": [
    "A positive integer `n` is a sum of three squares if `n = i2 + j2 + k2` for integers `i,j,k` such that `i ≥ 1, j ≥ 1 and k ≥ 1`. For instance, `29` is a sum of three squares because `10 = 22 + 32 + 42`, and so is `6 (12 + 12 + 22)`. On the other hand, `16` and `20` are not sums of three squares.\n",
    "\n",
    "Write a Python function `sumof3squares(n)` that takes a positive integer argument and returns `True` if the integer is a sum of three squares, and `False` otherwise."
   ]
  },
  {
   "cell_type": "code",
   "execution_count": null,
   "metadata": {},
   "outputs": [],
   "source": [
    "def sumof3squares(n):\n",
    "  f=0\n",
    "  for i in range(1,int(n**(0.5)),1):\n",
    "    for j in range(1,int(n**(0.5)),1):\n",
    "      for k in range(1,int(n**(0.5)),1):\n",
    "        if (i*i + j*j + k*k)==n:\n",
    "          f=1\n",
    "  return (f==1)"
   ]
  },
  {
   "attachments": {},
   "cell_type": "markdown",
   "metadata": {},
   "source": [
    "## Question 6"
   ]
  },
  {
   "attachments": {},
   "cell_type": "markdown",
   "metadata": {},
   "source": [
    "Write a Python function `intersect(l1,l2)` that takes two sorted lists as arguments and returns the list of all elements common to both `l1` and `l2` in the same order that they appear in the two lists. If the same element occurs more than once in both lists, it should appear in the output exactly once.\n",
    "\n",
    "Thus, `intersect([2,2,4],[1,2,2,3,4])` should return `[2, 4]` while `intersect([1,2,3],[4,5,6])` should return `[]`. "
   ]
  },
  {
   "cell_type": "code",
   "execution_count": null,
   "metadata": {},
   "outputs": [],
   "source": [
    "def intersect(l1,l2):\n",
    "  return(list(set(l1) & set(l2)))"
   ]
  },
  {
   "attachments": {},
   "cell_type": "markdown",
   "metadata": {},
   "source": [
    "## Question 7"
   ]
  },
  {
   "attachments": {},
   "cell_type": "markdown",
   "metadata": {},
   "source": [
    "Write a Python program that reads input from the keyboard (standard input). The input will consist of some number of lines of text. The input will be terminated by a blank line. The first line will consist of a single word to be interpreted as a *pattern*, after discarding the new line character. Your program should print the last *line* from the second line onward that contains an occurrence of the pattern. If no lines match the pattern, the program should print an empty line. You can assume that the input will have a non-empty pattern line. Recall that for a string `s` and a pattern `p`, `s.find(p)` returns the first position in `s` where `p` occurs, and returns `-1` if `p` does not occur in `s`.\n",
    "\n",
    "For instance, if the input is the following:\n",
    "```\n",
    "the\n",
    "\"Spot the mistake\n",
    "in the following argument\",\n",
    "Jack challenged\n",
    "1+(-1+1)+(-1+1)+... = (1+ -1)+(1+ -1)+...\n",
    "so therefore,\n",
    "1 = 0\n",
    "??\n",
    "```\n",
    "then your program should print the following. Note that the pattern string the is matched by the word therefore.\n",
    "```\n",
    "so therefore,\n",
    "```"
   ]
  },
  {
   "cell_type": "code",
   "execution_count": null,
   "metadata": {},
   "outputs": [],
   "source": [
    "goAhead = True\n",
    "\n",
    "counter = 1\n",
    "foundMatchLst = []\n",
    "while goAhead == True:\n",
    "  inputStr = input()\n",
    "  \n",
    "  if inputStr == \"\":\n",
    "    goAhead = False\n",
    "    break\n",
    "  else:\n",
    "    if counter == 1:\n",
    "      # register the pattern to test the rest of the input stream against\n",
    "      patternStr = inputStr\n",
    "    if counter >1:\n",
    "      if patternStr in inputStr:\n",
    "      \tfoundMatchLst.append(inputStr)\n",
    "    else:\n",
    "      pass\n",
    "    counter += 1\n",
    "\n",
    "print(foundMatchLst[-1])"
   ]
  },
  {
   "attachments": {},
   "cell_type": "markdown",
   "metadata": {},
   "source": [
    "## Question 8"
   ]
  },
  {
   "attachments": {},
   "cell_type": "markdown",
   "metadata": {},
   "source": [
    "Write a Python function `maxaverage(l)` that takes a list of pairs of the form `(name,score)` as argument, where name is a string and score is an integer. Each pair is to be interpreted as the score of the named player. For instance, an input of the form `[('Kohli',73),('Ashwin',33),('Kohli',7),('Pujara',122),('Ashwin',90)]` represents two scores of 73 and 7 for Kohli, two scores of 33 and 90 for Ashwin and one score of 122 for Pujara. Your function should compute the players who have the `highest average score (average = total across all scores for that player divided by number of entries)` and return the list of names of these players as a list, sorted in alphabetical order. If there is a single player, the list will contain a single name.\n",
    "\n",
    "For instance, `maxaverage([('Kohli',73),('Ashwin',33),('Kohli',7),('Pujara',122),('Ashwin',90)])` should return `['Pujara']` because the average score of Kolhi is 40 (80 divided by 2), of Ashwin is 61.5 (123 divided by 2) and of Pujara is 122 (122 divided by 1), of which 122 is the highest."
   ]
  },
  {
   "cell_type": "code",
   "execution_count": null,
   "metadata": {},
   "outputs": [],
   "source": [
    "def maxaverage(l):\n",
    "    \"\"\" we use the dual sublist mapping technique here, instead of dictionary finding business\n",
    "        15:25 19/03/2022 to 15:28 19/03/2022 | done! UK GMT!\n",
    "    \"\"\"\n",
    "    lst1 = [i[0] for i in l]\n",
    "    lst2 = [i[1] for i in l]\n",
    "    #print(lst1)\n",
    "    #print(lst2)\n",
    "    lst1_uniq = sorted(list(set(lst1)))\n",
    "    testScore_uniq = []\n",
    "    for i,j in enumerate(lst1_uniq):\n",
    "        testScoreCumulativePerPlayer = []\n",
    "        for m,n in enumerate(lst1):\n",
    "            if j == n:\n",
    "                testScoreCumulativePerPlayer.append(lst2[m])\n",
    "        #testScore_uniq.append(sum(testScoreCumulativePerPlayer))\n",
    "        testScore_uniq.append(sum(testScoreCumulativePerPlayer)/len(testScoreCumulativePerPlayer))\n",
    "    \n",
    "    if len(testScore_uniq) == len(lst1_uniq):\n",
    "        testScore_uniq_sorted, lst1_uniq_sorted = zip(*sorted(zip(testScore_uniq,lst1_uniq)))\n",
    "        #print(testScore_uniq_sorted[0])    # THIS IS THE MIN\n",
    "        #print(testScore_uniq_sorted[-1])   # THIS IS THE MAX\n",
    "        \n",
    "        ##print(testScore_uniq_sorted)\n",
    "        ##print(lst1_uniq_sorted)\n",
    "        #return [lst1_uniq_sorted[-1]]         # THIS IS THE ASSOCIATIVE MAX\n",
    "        \n",
    "        # test for repeats and register this for the required report\n",
    "        testScore_uniq_sorted_set = list(set(testScore_uniq_sorted))\n",
    "        repeatScore = []\n",
    "        indexLst = []\n",
    "        for i in testScore_uniq_sorted_set:\n",
    "            if testScore_uniq_sorted.count(i) > 1:\n",
    "                repeatScore.append(i)\n",
    "        ######print(repeatScore)\n",
    "        if repeatScore != []:\n",
    "            repeatScore = repeatScore[0]\n",
    "            finalPlayerLst = []\n",
    "            for i,j in enumerate(testScore_uniq_sorted):\n",
    "                if j == repeatScore:\n",
    "                    finalPlayerLst.append(lst1_uniq_sorted[i])\n",
    "            return finalPlayerLst\n",
    "        else:\n",
    "            return [lst1_uniq_sorted[-1]]"
   ]
  }
 ],
 "metadata": {
  "kernelspec": {
   "display_name": "base",
   "language": "python",
   "name": "python3"
  },
  "language_info": {
   "codemirror_mode": {
    "name": "ipython",
    "version": 3
   },
   "file_extension": ".py",
   "mimetype": "text/x-python",
   "name": "python",
   "nbconvert_exporter": "python",
   "pygments_lexer": "ipython3",
   "version": "3.9.7 (default, Sep 16 2021, 16:59:28) [MSC v.1916 64 bit (AMD64)]"
  },
  "orig_nbformat": 4,
  "vscode": {
   "interpreter": {
    "hash": "a077222d77dfe082b8f1dd562ad70e458ac2ab76993a0b248ab0476e32e9e8dd"
   }
  }
 },
 "nbformat": 4,
 "nbformat_minor": 2
}
