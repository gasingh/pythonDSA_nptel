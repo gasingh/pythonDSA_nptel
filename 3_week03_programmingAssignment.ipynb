{
 "cells": [
  {
   "attachments": {},
   "cell_type": "markdown",
   "metadata": {},
   "source": [
    "# WEEK 3: Programming Assignment\n",
    "\n",
    "22:14 10/02/2022"
   ]
  },
  {
   "attachments": {},
   "cell_type": "markdown",
   "metadata": {},
   "source": [
    "## PROGRAM 1: Remove Duplicates"
   ]
  },
  {
   "attachments": {},
   "cell_type": "markdown",
   "metadata": {},
   "source": [
    "Define a Python function remdup(l) that takes a nonempty list of integers l and removes all duplicates in l, keeping only the first occurrence of each number. For instance:\n",
    "\n",
    "```\n",
    ">>> remdup([3,1,3,5])\n",
    "[3, 1, 5]\n",
    "\n",
    ">>> remdup([7,3,-1,-5])\n",
    "[7, 3, -1, -5]\n",
    "\n",
    ">>> remdup([3,5,7,5,3,7,10])\n",
    "[3, 5, 7, 10]\n",
    "```"
   ]
  },
  {
   "cell_type": "code",
   "execution_count": null,
   "metadata": {},
   "outputs": [],
   "source": [
    "def remdup(vLst): uniqLst = []; [uniqLst.append(i) for i in vLst if (i not in uniqLst)]; return uniqLst"
   ]
  },
  {
   "attachments": {},
   "cell_type": "markdown",
   "metadata": {},
   "source": [
    "## PROGRAM 2: Square of Sums "
   ]
  },
  {
   "attachments": {},
   "cell_type": "markdown",
   "metadata": {},
   "source": [
    "Write a Python function sumsquare(l) that takes a nonempty list of integers and returns a list [odd,even], where odd is the sum of squares all the odd numbers in l and even is the sum of squares of all the even numbers in l.\n",
    "\n",
    "Here are some examples to show how your function should work.\n",
    "\n",
    "```\n",
    ">>> sumsquare([1,3,5])\n",
    "[35, 0]\n",
    "\n",
    ">>> sumsquare([2,4,6])\n",
    "[0, 56]\n",
    "\n",
    ">>> sumsquare([-1,-2,3,7])\n",
    "[59, 4]\n",
    "```"
   ]
  },
  {
   "cell_type": "code",
   "execution_count": null,
   "metadata": {},
   "outputs": [],
   "source": [
    "def sumsquare(vLst):\n",
    "    even = [i for i in vLst if i%2 == 0]\n",
    "    odd = [i for i in vLst if i%2 != 0]\n",
    "    evenSquare = map(lambda v: v**2,even)\n",
    "    oddSquare = map(lambda v: v**2,odd)\n",
    "    evenSum = sum(evenSquare)\n",
    "    oddSum = sum(oddSquare)\n",
    "    return [oddSum,evenSum]"
   ]
  },
  {
   "attachments": {},
   "cell_type": "markdown",
   "metadata": {},
   "source": [
    "## PROGRAM 3: Matrix Transpose Function"
   ]
  },
  {
   "attachments": {},
   "cell_type": "markdown",
   "metadata": {},
   "source": [
    "A two dimensional matrix can be represented in Python row-wise, as a list of lists: each inner list represents one row of the matrix. For instance, the matrix\n",
    "```\n",
    "1  2  3  4\n",
    "5  6  7  8\n",
    "```\n",
    "would be represented as [[1, 2, 3, 4], [5, 6, 7, 8]].\n",
    "\n",
    "The transpose of a matrix converts each row into a column. The transpose of the matrix above is:\n",
    "```\n",
    "1  5\n",
    "2  6\n",
    "3  7\n",
    "4  8\n",
    "```\n",
    "which would be represented as [[1, 5], [2, 6], [3, 7], [4, 8]].\n",
    "\n",
    "Write a Python function transpose(m) that takes as input a two dimensional matrix m and returns the transpose of m. **The argument m should remain undisturbed by the function.**\n",
    "\n",
    "Here are some examples to show how your function should work. You may assume that the input to the function is always a non-empty matrix.\n",
    "```\n",
    ">>> transpose([[1,2,3],[4,5,6]])\n",
    "[[1, 4], [2, 5], [3, 6]]\n",
    "\n",
    ">>> transpose([[1],[2],[3]])\n",
    "[[1, 2, 3]]\n",
    "\n",
    ">>> transpose([[3]])\n",
    "[[3]]\n",
    "```"
   ]
  },
  {
   "cell_type": "code",
   "execution_count": 1,
   "metadata": {},
   "outputs": [],
   "source": [
    "def transpose(vLst):\n",
    "    \"\"\"\n",
    "    this is a simple zip implementation!\n",
    "    22:14 10/02/2022\n",
    "    \"\"\"\n",
    "    vLst3 = []\n",
    "    [[vLst3.append(j) for j in i] for i in vLst]       #flatLst\n",
    "    #print len(vLst3), \". . . .\"\n",
    "    #print vLst3\n",
    "    #print len(vLst3)/len(vLst), \"__ __ __\"\n",
    "    outLst = []\n",
    "    for i in range(0,int(len(vLst3)/len(vLst)),1):\n",
    "        localLst = []\n",
    "        #print \"i: \",i, \"....\"\n",
    "        localLst.append(vLst3[i])\n",
    "        #print i+ int(len(vLst3)/len(vLst))\n",
    "        for m in range(len(vLst)-1):\n",
    "            incrIndex = ((len(vLst[0])) * (m+1))+i\n",
    "            #print str(incrIndex)+\"x\"\n",
    "            #localLst.append(\"i\")\n",
    "            localLst.append(vLst3[incrIndex])\n",
    "        outLst.append(localLst)\n",
    "    return outLst"
   ]
  }
 ],
 "metadata": {
  "kernelspec": {
   "display_name": "base",
   "language": "python",
   "name": "python3"
  },
  "language_info": {
   "codemirror_mode": {
    "name": "ipython",
    "version": 3
   },
   "file_extension": ".py",
   "mimetype": "text/x-python",
   "name": "python",
   "nbconvert_exporter": "python",
   "pygments_lexer": "ipython3",
   "version": "3.9.7"
  },
  "orig_nbformat": 4,
  "vscode": {
   "interpreter": {
    "hash": "a077222d77dfe082b8f1dd562ad70e458ac2ab76993a0b248ab0476e32e9e8dd"
   }
  }
 },
 "nbformat": 4,
 "nbformat_minor": 2
}
