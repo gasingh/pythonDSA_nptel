{
 "cells": [
  {
   "attachments": {},
   "cell_type": "markdown",
   "metadata": {},
   "source": [
    "# WEEK 6: Programming Quiz\n",
    "\n",
    "22:42 09/03/2022"
   ]
  },
  {
   "attachments": {},
   "cell_type": "markdown",
   "metadata": {},
   "source": [
    "1. Suppose u and v both denote sets in Python. Under what condition can we guarantee that u-(v-u) == u?\n",
    "- [ ] The sets u and v should be disjoint.\n",
    "- [ ] The set u should be a subset of the set v\n",
    "- [ ] The set v should be a subset of the set u\n",
    "- [X] This is true for any u and v."
   ]
  },
  {
   "attachments": {},
   "cell_type": "markdown",
   "metadata": {},
   "source": [
    "2. Suppose u and v both denote sets in Python. and u|v != u^v. What can we conclude about u and v?\n",
    "- [X] The sets u and v should overlap.\n",
    "- [ ] The set v should be a subset of the set u.\n",
    "- [ ] The set u should be a subset of the set v.\n",
    "- [ ] This is true for any u and v."
   ]
  },
  {
   "attachments": {},
   "cell_type": "markdown",
   "metadata": {},
   "source": [
    "3. Which of the following does not correspond to a min-heap on the list of values [19,97,83,45,72,55,31,28,31,29].\n",
    "\n",
    "- [ ] [19, 28, 72, 31, 29, 83, 97, 55, 45, 31]\n",
    "- [ ] [19, 31, 28, 45, 31, 97, 29, 72, 55, 83]\n",
    "- [ ] [19, 28, 29, 31, 31, 45, 55, 72, 83, 97]\n",
    "- [X] [19, 28, 29, 31, 45, 83, 97, 55, 72, 31]"
   ]
  },
  {
   "attachments": {},
   "cell_type": "markdown",
   "metadata": {},
   "source": [
    "4. Consider the min-heap [19, 28, 31, 31, 29, 83, 55, 97, 45, 72]. Suppose we apply the operation delete_min() to this min-heap. The resulting min-heap is:\n",
    "- [ ] [8, 29, 31, 31, 97, 83, 55, 72, 45]\n",
    "- [X] [28, 29, 31, 31, 72, 83, 55, 97, 45]\n",
    "- [ ] [28, 29, 31, 31, 83, 72, 55, 97, 45]\n",
    "- [ ] [28, 29, 31, 31, 55, 83, 72, 97, 45]"
   ]
  }
 ],
 "metadata": {
  "kernelspec": {
   "display_name": "base",
   "language": "python",
   "name": "python3"
  },
  "language_info": {
   "codemirror_mode": {
    "name": "ipython",
    "version": 3
   },
   "file_extension": ".py",
   "mimetype": "text/x-python",
   "name": "python",
   "nbconvert_exporter": "python",
   "pygments_lexer": "ipython3",
   "version": "3.9.7 (default, Sep 16 2021, 16:59:28) [MSC v.1916 64 bit (AMD64)]"
  },
  "orig_nbformat": 4,
  "vscode": {
   "interpreter": {
    "hash": "a077222d77dfe082b8f1dd562ad70e458ac2ab76993a0b248ab0476e32e9e8dd"
   }
  }
 },
 "nbformat": 4,
 "nbformat_minor": 2
}
