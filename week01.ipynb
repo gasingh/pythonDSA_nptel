{
 "cells": [
  {
   "attachments": {},
   "cell_type": "markdown",
   "metadata": {},
   "source": [
    "WEEK 1: Quiz"
   ]
  },
  {
   "attachments": {},
   "cell_type": "markdown",
   "metadata": {},
   "source": [
    "1) What is the value of f(3456) for the function below?\n",
    "\n",
    "```def f(x):\n",
    "    d=0\n",
    "    while x >= 1:\n",
    "        (x,d) = (x/7,d+1)\n",
    "    return(d)\n",
    "```\n"
   ]
  },
  {
   "cell_type": "code",
   "execution_count": null,
   "metadata": {},
   "outputs": [],
   "source": [
    "\"\"\"1. What is the value of f(3456) for the function below? \n",
    "\"\"\"\n",
    "def f(x):\n",
    "    d=0\n",
    "    while x >= 1:\n",
    "        (x,d) = (x/7,d+1)\n",
    "    return(d)\n",
    "\n",
    "print (f(3456))     # ANSWER: 5"
   ]
  },
  {
   "attachments": {},
   "cell_type": "markdown",
   "metadata": {},
   "source": [
    "2). What is h(60)-h(45), given the definition of h below?\n",
    "\n",
    "```def h(n):\n",
    "    s = 0\n",
    "    for i in range(2,n):\n",
    "        if n%i == 0:\n",
    "           s = s+i\n",
    "    return(s)\n",
    "```"
   ]
  },
  {
   "cell_type": "code",
   "execution_count": null,
   "metadata": {},
   "outputs": [],
   "source": [
    "\"\"\"2. What is h(60)-h(45), given the definition of h below? \n",
    "\"\"\"\n",
    "\n",
    "def h(n):\n",
    "    s = 0\n",
    "    for i in range(2,n):\n",
    "        if n%i == 0:\n",
    "           s = s+i\n",
    "    return(s)\n",
    "\n",
    "print (h(60)-h(45))         #ANSWER: 75"
   ]
  },
  {
   "attachments": {},
   "cell_type": "markdown",
   "metadata": {},
   "source": [
    "3) For what value of n would g(375,n) return 4?\n",
    "\n",
    "```def g(m,n):\n",
    "    res = 0\n",
    "    while m >= n:\n",
    "        (res,m) = (res+1,m/n)\n",
    "    return(res)\n",
    "```"
   ]
  },
  {
   "cell_type": "code",
   "execution_count": null,
   "metadata": {},
   "outputs": [],
   "source": [
    "\"\"\"3. For what value of n would g(375,n) return 4?\n",
    "\"\"\"\n",
    "def g(m,n):\n",
    "    res = 0\n",
    "    while m >= n:\n",
    "        (res,m) = (res+1,m/n)\n",
    "    return(res)\n",
    "\n",
    "print (g(375,1))        #ANSWER: 4\n",
    "print (g(375,2))        #ANSWER: 4\n",
    "print (g(375,3))        #ANSWER: 4\n",
    "print (g(375,4))        #ANSWER: 4"
   ]
  },
  {
   "cell_type": "code",
   "execution_count": null,
   "metadata": {},
   "outputs": [],
   "source": [
    "\"\"\" # ROUGH WORK-1 | w loop simple\n",
    "\"\"\"\n",
    "\n",
    "i = 25\n",
    "while i<30:\n",
    "    print(i)\n",
    "    i = i+1\n"
   ]
  },
  {
   "cell_type": "code",
   "execution_count": null,
   "metadata": {},
   "outputs": [],
   "source": [
    "# ROUGH WORK-2\n",
    "\n",
    "def g(m,n):\n",
    "    res = 0\n",
    "    cnt = 0\n",
    "    while m >= n:\n",
    "        # (res,m) = (res+1,m/n)\n",
    "        res = res+1\n",
    "        m = m/n\n",
    "        # print(\"%s\" %n,\"__\")\n",
    "        # print(res)\n",
    "        sep = \" | \"\n",
    "        print(\"cnt={} | m={} | n={} | res={}\".format(cnt,m,n,res))\n",
    "        cnt +=1\n",
    "    return(res)\n",
    "\n",
    "print (g(375,17))"
   ]
  },
  {
   "cell_type": "code",
   "execution_count": null,
   "metadata": {},
   "outputs": [],
   "source": [
    "# ROUGH WORK-3\n",
    "\n",
    "def g(m,n):\n",
    "    res = 0\n",
    "    cnt = 0\n",
    "    while m >= n:\n",
    "        # (res,m) = (res+1,m/n)\n",
    "        res = res+1\n",
    "        m = m/n\n",
    "        # print(\"%s\" %n,\"__\")\n",
    "        # print(res)\n",
    "        sep = \" | \"\n",
    "        print(\"cnt={} | m={} | n={} | res={}\".format(cnt,m,n,res))\n",
    "        cnt +=1\n",
    "    return(res)\n",
    "\n",
    "# for what n does g(375,n) return 4?\n",
    "n = 4\n",
    "print (g(375,n))"
   ]
  },
  {
   "cell_type": "code",
   "execution_count": null,
   "metadata": {},
   "outputs": [],
   "source": [
    "# ROUGH WORK-4\n",
    "\n",
    "\"\"\"\n",
    "The answer is that n = 1,2,3,4 all result in g(375,n) to be 4!\n",
    "\n",
    "try the following in the Question Code:\n",
    "print (g(375,1))\n",
    "print (g(375,2))\n",
    "print (g(375,3))\n",
    "print (g(375,4))\n",
    "\n",
    "18:13 30/01/2022\n",
    "\"\"\"\n",
    "\n",
    "\n",
    "def g(m,n):\n",
    "    res = 0\n",
    "    cnt = 0\n",
    "    while m >= n:\n",
    "        # (res,m) = (res+1,m/n)\n",
    "        res = res+1\n",
    "        m = m/n\n",
    "        if res == 4:\n",
    "            print(\"cnt={} | m={} | n={} | res={} ______ yes!\".format(cnt,m,n,res))\n",
    "            break\n",
    "        else:\n",
    "            print(\"cnt={} | m={} | n={} | res={}\".format(cnt,m,n,res))\n",
    "        cnt +=1\n",
    "            \n",
    "    return(res)\n",
    "\n",
    "\n",
    "# for what n does g(375,n) return 4?\n",
    "solutionTestSpace = 1000\n",
    "for i in range(1,solutionTestSpace):  \n",
    "    if g(375,i)== 4:\n",
    "        # print(\"{} | result is 4!\".format(i))\n",
    "        print(\"g(375,{})= 4\".format(i))\n",
    "        print(\" \")\n",
    "\n"
   ]
  },
  {
   "cell_type": "code",
   "execution_count": 14,
   "metadata": {},
   "outputs": [
    {
     "name": "stdout",
     "output_type": "stream",
     "text": [
      "pass:1, m:93, n:4, res:1\n",
      "pass:2, m:23, n:4, res:2\n",
      "pass:3, m:5, n:4, res:3\n",
      "pass:4, m:1, n:4, res:4\n",
      "4\n"
     ]
    }
   ],
   "source": [
    "\"\"\"\n",
    "THIS IS THE CORRECT SOLUTION\n",
    "\"\"\"\n",
    "\n",
    "def g(m,n):\n",
    "    res = 0\n",
    "    cnt = 0\n",
    "    while m >= n:\n",
    "        # print(\"cnt:{}, m:{}, n:{}\".format(cnt,m,n))\n",
    "        (res,m) = (res+1,m/n)\n",
    "        cnt += 1\n",
    "        print(\"pass:{}, m:{}, n:{}, res:{}\".format(cnt,m,n,res))\n",
    "    return(res)\n",
    "\n",
    "print(g(375,4))"
   ]
  },
  {
   "attachments": {},
   "cell_type": "markdown",
   "metadata": {},
   "source": [
    "4) Consider the following function f:\n",
    "\n",
    "```def mys(m):\n",
    "  if m == 1:\n",
    "    return(1)\n",
    "  else:\n",
    "    return(m+mys(m-1))\n",
    "```\n",
    "\n",
    "Which of the following is correct?\n",
    "- [ ] The function always terminates with mys(n) = factorial of n\n",
    "- [ ] The function always terminates with mys(n) = 1+2+...+n\n",
    "- [ ] The function terminates for positive n with mys(n) = factorial of n\n",
    "- [ ] The function terminates for positive n with mys(n) = 1+2+...+n\n"
   ]
  },
  {
   "cell_type": "code",
   "execution_count": null,
   "metadata": {},
   "outputs": [],
   "source": [
    "\"\"\"4. Consider the following function f: \n",
    "Which of the following is correct?\n",
    "[]  The function always terminates with mys(n) = factorial of n\n",
    "[]  The function always terminates with mys(n) = 1+2+...+n\n",
    "[]  The function terminates for positive n with mys(n) = factorial of n\n",
    "[]  The function terminates for positive n with mys(n) = 1+2+...+n\n",
    "\"\"\"\n",
    "def mys(m):\n",
    "  if m == 1:\n",
    "    return(1)\n",
    "  else:\n",
    "    return(m+mys(m-1))"
   ]
  },
  {
   "cell_type": "code",
   "execution_count": null,
   "metadata": {},
   "outputs": [],
   "source": [
    "\"\"\" ROUGH-WORK 1 | Kills the Python Kernel!\n",
    "\"\"\"\n",
    "\n",
    "# def mys(m):\n",
    "#     finalSol = None\n",
    "#     if m == 1:\n",
    "#         finalSol = 1\n",
    "#     else:\n",
    "#         solution = m+mys(m-1)\n",
    "#         finalSol = solution\n",
    "#     return finalSol\n",
    "\n",
    "# # print(\"solution: {} | m: {}\".format(solution,m))\n",
    "# testLimit = 10\n",
    "# for i, j in enumerate(range(1,testLimit)):\n",
    "#     # print(\"i: {} | mys({})= {}\".format(i,i,mys(i)))\n",
    "#     solve = mys(i)\n",
    "#     print(\"mys({})= {}\".format(i,solve))\n"
   ]
  },
  {
   "cell_type": "code",
   "execution_count": null,
   "metadata": {},
   "outputs": [],
   "source": [
    "\"\"\" This also kills the Python Kernel! with MiniConda, also fails with Python 2 as MAXIMUM RECURSION DEPTH IS EXCEEDED!!!\n",
    "\"\"\"\n",
    "\n",
    "def mys(m):\n",
    "  if m == 1:\n",
    "    return(1)\n",
    "  else:\n",
    "    return(m+mys(m-1))\n",
    "\n",
    "# print(\"solution: {} | m: {}\".format(solution,m))\n",
    "testLimit = 2\n",
    "for i, j in enumerate(range(1,testLimit)):\n",
    "    # print(\"i: {} | mys({})= {}\".format(i,i,mys(i)))\n",
    "    solve = mys(i)\n",
    "    print(\"mys({})= {}\".format(i,solve))\n"
   ]
  },
  {
   "cell_type": "code",
   "execution_count": null,
   "metadata": {},
   "outputs": [],
   "source": [
    "def mys(m):\n",
    "  if m == 1:\n",
    "    return(1)\n",
    "  else:\n",
    "    return(m+mys(m-1))\n",
    "\n",
    "# print(mys(1)) #1\n",
    "# print(mys(2)) #3\n",
    "# print(mys(3)) #6\n",
    "# print(mys(4)) #10\n",
    "\n",
    "# print(mys(5)) #15\n",
    "# print(mys(6)) #21\n",
    "# print(mys(7)) #28\n",
    "# print(mys(8)) #36\n",
    "# print(mys(9)) #45\n",
    "# print(mys(10)) #55\n",
    "\n",
    "print(mys(-5))"
   ]
  },
  {
   "cell_type": "code",
   "execution_count": null,
   "metadata": {},
   "outputs": [],
   "source": [
    "import math\n",
    "\n",
    "print(math.factorial(1))\n",
    "print(math.factorial(5))\n",
    "\n",
    "print (sum([1,2,3,4,5]))\n",
    "print (sum([1,2,3,4,5,6]))\n",
    "\n",
    "print (sum([1,2,3,4]))\n",
    "print (sum([-4,-3,-2,-1,0]))\n",
    "\n",
    "print (sum([1,2,3,4,5]))\n",
    "print (sum([-5,-4,-3,-2,-1,0]))"
   ]
  },
  {
   "cell_type": "markdown",
   "metadata": {},
   "source": [
    "#### FINAL ANSWERS\n",
    "\n",
    "1. What is the value of f(3456) for the function below? \n",
    "   5\n",
    "2. What is h(60)-h(45), given the definition of h below? \n",
    "   75\n",
    "3. For what value of n would g(375,n) return 4?\n",
    "   4\n",
    "4. Consider the following function f: Which of the following is correct?\n",
    "   The function always terminates with mys(n) = 1+2+...+n\n",
    "\n",
    "   20:26 30/01/2022"
   ]
  }
 ],
 "metadata": {
  "interpreter": {
   "hash": "5c3b02fa24688d32a1d09351b7f8eac82a87272ad081601c73caead00a8e1fc4"
  },
  "kernelspec": {
   "display_name": "Python 2.7.16 64-bit (system)",
   "language": "python",
   "name": "python3"
  },
  "language_info": {
   "codemirror_mode": {
    "name": "ipython",
    "version": 3
   },
   "file_extension": ".py",
   "mimetype": "text/x-python",
   "name": "python",
   "nbconvert_exporter": "python",
   "pygments_lexer": "ipython3",
   "version": "3.9.5"
  },
  "orig_nbformat": 4
 },
 "nbformat": 4,
 "nbformat_minor": 2
}
