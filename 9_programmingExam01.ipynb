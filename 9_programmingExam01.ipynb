{
 "cells": [
  {
   "attachments": {},
   "cell_type": "markdown",
   "metadata": {},
   "source": [
    "# EXAM 1: Morning Session\n",
    "\n",
    "Online Programming Test 1, 19 Mar 2022, 10:00-12:00 \n",
    " "
   ]
  },
  {
   "attachments": {},
   "cell_type": "markdown",
   "metadata": {},
   "source": [
    "## Question 1"
   ]
  },
  {
   "attachments": {},
   "cell_type": "markdown",
   "metadata": {},
   "source": [
    "Here is a function isprimebad that takes a positive integer as input and returns True if the number is prime and False otherwise. There is an error in this function. Provide an input `n`, which is a positive integer, for which `isprimebad` produces an incorrect output.\n",
    "\n",
    "```\n",
    "import math\n",
    "\n",
    "def isprimebad(n):\n",
    "  if n < 2:\n",
    "    return(False)\n",
    "  else:\n",
    "    for i in range(2, int(math.sqrt(n))):\n",
    "      if n%i == 0:\n",
    "         return(False)\n",
    "    return(True)\n",
    "```\n",
    "\n",
    "Open up the code submission box below and write your test case where you would normally paste your code. Your input should be a single integer `n`."
   ]
  },
  {
   "cell_type": "code",
   "execution_count": null,
   "metadata": {},
   "outputs": [],
   "source": [
    "myinput = '''\n",
    "6\n",
    "'''\n",
    "\n",
    "import math\n",
    "\n",
    "def isprimebad(n):\n",
    "  if n < 2:\n",
    "    return(False)\n",
    "  else:\n",
    "    for i in range(2, int(math.sqrt(n))):\n",
    "      if n%i == 0:\n",
    "         return(False)\n",
    "    return(True)\n",
    "\n",
    "def isprimegood(n):\n",
    "  if n < 2:\n",
    "    return(False)\n",
    "  else:\n",
    "    for i in range(2, int(math.sqrt(n)+1)):\n",
    "      if n%i == 0:\n",
    "         return(False)\n",
    "    return(True)"
   ]
  },
  {
   "attachments": {},
   "cell_type": "markdown",
   "metadata": {},
   "source": [
    "## Question 2"
   ]
  },
  {
   "attachments": {},
   "cell_type": "markdown",
   "metadata": {},
   "source": [
    "Here is a function `lexsortbad` that takes a list of pairs of integers as input and returns them in lexicographically sorted order (i.e., dictionary order). There is an error is this function. Provide an input for which lexsortbad produces an incorrect output. Your input should be a list of pairs of integers of the form `[(i1,j1),(i2,j2),...,(in,jn)]`.\n",
    "\n",
    "```\n",
    "def lexsortbad(l):\n",
    "  for k in range(2):\n",
    "    for j in range(len(l)-1):\n",
    "      for i in range(len(l)-1):\n",
    "        if l[i][k] > l[i+1][k]:\n",
    "          (l[i],l[i+1]) = (l[i+1],l[i])\n",
    "  return(l)\n",
    "```\n",
    "\n",
    "Open up the code submission box below and write your test case where you would normally paste your code. Your input should be a list of pairs of integers of the form `[(i1,j1),(i2,j2),...,(in,jn)]`."
   ]
  },
  {
   "cell_type": "code",
   "execution_count": null,
   "metadata": {},
   "outputs": [],
   "source": [
    "myinput = '''\n",
    "[(8,11),(5,6),(24,24),(99,109),(0,0)]\n",
    "'''\n",
    "\n",
    "def lexsortbad(l):\n",
    "  for k in range(2):\n",
    "    for j in range(len(l)-1):\n",
    "      for i in range(len(l)-1):\n",
    "        if l[i][k] > l[i+1][k]:\n",
    "          (l[i],l[i+1]) = (l[i+1],l[i])\n",
    "  return(l)"
   ]
  },
  {
   "attachments": {},
   "cell_type": "markdown",
   "metadata": {},
   "source": [
    "## Question 3"
   ]
  },
  {
   "attachments": {},
   "cell_type": "markdown",
   "metadata": {},
   "source": [
    "Here is a function to compute the smallest of three input integers. You have to fill in the missing lines.\n",
    "\n",
    "```\n",
    "def min3(x,y,z):\n",
    "  if x <= y:\n",
    "    if x <= z:\n",
    "      minimum = x\n",
    "  # Your code below this line\n",
    "\n",
    "\n",
    "  # Your code above this line\n",
    "  return(minimum)\n",
    "```\n",
    "Open up the code submission box below and fill in the gap in the code. Ensure that you maintain correct indentation."
   ]
  },
  {
   "cell_type": "code",
   "execution_count": null,
   "metadata": {},
   "outputs": [],
   "source": [
    "def min3(x,y,z):\n",
    "  if x <= y:\n",
    "    if x <= z:\n",
    "      minimum = x\n",
    "  # Your code below this line\n",
    "  elif y<= x and y<=z:\n",
    "    minimum = y\n",
    "  else:\n",
    "    minimum = z\n",
    "  # Your code above this line\n",
    "  return(minimum)"
   ]
  },
  {
   "attachments": {},
   "cell_type": "markdown",
   "metadata": {},
   "source": [
    "## Question 4"
   ]
  },
  {
   "attachments": {},
   "cell_type": "markdown",
   "metadata": {},
   "source": [
    "A list is a non-decreasing if each element is at least as big as the preceding one. For instance `[], [7], [8,8,11] and [3,19,44,44,63,89]` are non-decreasing, while `[3,18,4] and [23,14,3,14,3,23]` are not. Here is a recursive function to check if a list is non-decreasing. You have to fill in the missing argument for the recursive call.\n",
    "\n",
    "```\n",
    "def nondecreasing(l):\n",
    "  if l==[] or len(l) == 1:\n",
    "    return(True)\n",
    "  else:\n",
    "    return(...)\n",
    "```\n",
    "Open up the code submission box below and fill in the missing argument for the recursive call."
   ]
  },
  {
   "cell_type": "code",
   "execution_count": null,
   "metadata": {},
   "outputs": [],
   "source": [
    "def nondecreasing(l):\n",
    "  if l==[] or len(l) == 1:\n",
    "    return(True)\n",
    "  else:\n",
    "    return(\n",
    "       # Complete the recursive call below this line\n",
    "  all(i <= j for i, j in zip(l,l[1:]))\n",
    "       # Complete the recursive call above this line\n",
    "    )"
   ]
  },
  {
   "attachments": {},
   "cell_type": "markdown",
   "metadata": {},
   "source": [
    "## Question 5"
   ]
  },
  {
   "attachments": {},
   "cell_type": "markdown",
   "metadata": {},
   "source": [
    "A positive integer n is a sum of squares if `n = i2 + j2` for integers `i,j` such that `i ≥ 1` and `j ≥ 1`. For instance, `10` is a sum of squares because `10 = 12 + 32`, and so is `25 (32 + 42)`. On the other hand, `11` and `3` are not sums of squares.\n",
    "\n",
    "Write a Python function `sumofsquares(n)` that takes a positive integer argument and returns `True` if the integer is a sum of squares, and `False` otherwise."
   ]
  },
  {
   "cell_type": "code",
   "execution_count": null,
   "metadata": {},
   "outputs": [],
   "source": [
    "def sumofsquares(n):\n",
    "  \"\"\" we take a number and test it recursively against to find a working condition iteratively\n",
    "  \"\"\"\n",
    "  foundCondition = False\n",
    "  sumOfSquaresTest = lambda v1,v2,v3 : True if v1**2 + v2**2 == v3 else False\n",
    "  for i in range(1,n,1):\n",
    "    for j in range(n):\n",
    "      if sumOfSquaresTest(i,j,n) == True:\n",
    "        foundCondition = True\n",
    "  return foundCondition"
   ]
  },
  {
   "attachments": {},
   "cell_type": "markdown",
   "metadata": {},
   "source": [
    "## Question 6"
   ]
  },
  {
   "attachments": {},
   "cell_type": "markdown",
   "metadata": {},
   "source": [
    "Write a Python function `subsequence(l1,l2)` that takes two sorted lists as arguments and returns `True` if the the first list is a subsequence of the second list, and returns `False` otherwise.\n",
    "\n",
    "A subsequence of a list is obtained by dropping some values. Thus, `[2,3,4] and [2,2,5]` are subsequences of `[2,2,3,4,5]`, but `[2,4,4] and [2,4,3]` are not."
   ]
  },
  {
   "cell_type": "code",
   "execution_count": null,
   "metadata": {},
   "outputs": [],
   "source": [
    "def subsequence(l1,l2):\n",
    "    \"\"\"\n",
    "    solved | 06:10 19/03/2022 UK GMT!\n",
    "    \"\"\"\n",
    "    if len(l1) == len(l2):\n",
    "        if l1 == l2:\n",
    "            return True\n",
    "        else:\n",
    "            return False\n",
    "    else:\n",
    "        if len(l2) > len(l1):\n",
    "            # WE TRY AND FIND THE SOLUTION\n",
    "            indexRegisterPerInputElement = []\n",
    "            for i,j in enumerate(l1):\n",
    "                #print(j, \"_ _ _ \")\n",
    "                foundOnce = False\n",
    "                foundCnt = 0\n",
    "                for m,n in enumerate(l2):\n",
    "                    if j == n:\n",
    "                        if foundOnce == False:\n",
    "                            if (m in indexRegisterPerInputElement) == False:\n",
    "                                # register the index\n",
    "                                indexRegisterPerInputElement.append(m)\n",
    "                                #print(n, \"...index registered\")\n",
    "                                foundOnce = True\n",
    "                                foundCnt = foundCnt+1\n",
    "                if foundCnt == 0:\n",
    "                    indexRegisterPerInputElement.append(None)\n",
    "                    #print(None, \"...no index registered for this entry\")\n",
    "            #print(l1)\n",
    "            #print(indexRegisterPerInputElement)\n",
    "            #print(l2)\n",
    "            if None in indexRegisterPerInputElement:\n",
    "                return False\n",
    "            else:\n",
    "                return True\n",
    "        else:\n",
    "            return False"
   ]
  },
  {
   "attachments": {},
   "cell_type": "markdown",
   "metadata": {},
   "source": [
    "## Question 7"
   ]
  },
  {
   "attachments": {},
   "cell_type": "markdown",
   "metadata": {},
   "source": [
    "Write a Python program that reads input from the keyboard (standard input). The input will consist of some number of lines of text. The input will be terminated by a blank line. The first line will consist of a single word to be interpreted as a pattern, after discarding the new line character. Your program should print every line from the second line onward that contains an occurrence of the pattern. You can assume that the input will have a non-empty pattern line. Recall that for a string `s` and a pattern `p`, `s.find(p)` returns the first position in `s` where `p` occurs, and returns `-1` if `p` does not occur in `s`.\n",
    "\n",
    "For instance, if the input is the following:\n",
    "```\n",
    "the\n",
    "\"Spot the mistake\n",
    "in the following argument\",\n",
    "Jack challenged\n",
    "1+(-1+1)+(-1+1)+... = (1+ -1)+(1+ -1)+...\n",
    "so therefore,\n",
    "1 = 0\n",
    "??\n",
    "```\n",
    "then your program should print the following. Note that the pattern string the is matched by the word therefore.\n",
    "```\n",
    "\"Spot the mistake\n",
    "in the following argument\",\n",
    "so therefore,\n",
    "```"
   ]
  },
  {
   "cell_type": "code",
   "execution_count": null,
   "metadata": {},
   "outputs": [],
   "source": [
    "goAhead = True\n",
    "\n",
    "counter = 1\n",
    "while goAhead == True:\n",
    "  inputStr = input()\n",
    "  \n",
    "  if inputStr == \"\":\n",
    "    goAhead = False\n",
    "    break\n",
    "  else:\n",
    "    if counter == 1:\n",
    "      # register the pattern to test the rest of the input stream against\n",
    "      patternStr = inputStr\n",
    "    if counter >1:\n",
    "      if patternStr in inputStr:\n",
    "      \tprint(inputStr)\n",
    "    else:\n",
    "      pass\n",
    "    counter += 1"
   ]
  },
  {
   "attachments": {},
   "cell_type": "markdown",
   "metadata": {},
   "source": [
    "## Question 8"
   ]
  },
  {
   "attachments": {},
   "cell_type": "markdown",
   "metadata": {},
   "source": [
    "Write a Python function `maxaggregate(l)` that takes a list of pairs of the form `(name,score)` as argument, where name is a string and score is an integer. Each pair is to be interpreted as the score of the named player. For instance, an input of the form `[('Kohli',73),('Ashwin',33),('Kohli',7),('Pujara',122),('Ashwin',90)]` represents two scores of 73 and 7 for Kohli, two scores of 33 and 90 for Ashwin and one score of 122 for Pujara. Your function should compute the players who have the highest aggregate score `(aggegrate = total, so add up all scores for that name)` and return the list of names of these players as a list, sorted in alphabetical order. If there is a single player, the list will contain a single name.\n",
    "\n",
    "For instance, `maxaggregate([('Kohli',73),('Ashwin',33),('Kohli',7),('Pujara',122),('Ashwin',90)])` should return `['Ashwin']` because the aggregate score of Kolhi is 80, of Ashwin is 123 and of Pujara is 122, of which 123 is the highest."
   ]
  },
  {
   "cell_type": "code",
   "execution_count": null,
   "metadata": {},
   "outputs": [],
   "source": [
    "def maxaggregate(l):\n",
    "    \"\"\" we use the dual sublist mapping technique here, instead of dictionary finding business\n",
    "    05:28 19/03/2022 | UK GMT time-zone! | v1\n",
    "    05:40 19/03/2022 | v2 | FINAL!\n",
    "    \"\"\"\n",
    "    lst1 = [i[0] for i in l]\n",
    "    lst2 = [i[1] for i in l]\n",
    "    #print(lst1)\n",
    "    #print(lst2)\n",
    "    lst1_uniq = sorted(list(set(lst1)))\n",
    "    testScore_uniq = []\n",
    "    for i,j in enumerate(lst1_uniq):\n",
    "        testScoreCumulativePerPlayer = []\n",
    "        for m,n in enumerate(lst1):\n",
    "            if j == n:\n",
    "                testScoreCumulativePerPlayer.append(lst2[m])\n",
    "        testScore_uniq.append(sum(testScoreCumulativePerPlayer))\n",
    "    \n",
    "    if len(testScore_uniq) == len(lst1_uniq):\n",
    "        testScore_uniq_sorted, lst1_uniq_sorted = zip(*sorted(zip(testScore_uniq,lst1_uniq)))\n",
    "        #print(testScore_uniq_sorted[0])    # THIS IS THE MIN\n",
    "        #print(testScore_uniq_sorted[-1])   # THIS IS THE MAX\n",
    "        \n",
    "        ##print(testScore_uniq_sorted)\n",
    "        ##print(lst1_uniq_sorted)\n",
    "        #return [lst1_uniq_sorted[-1]]         # THIS IS THE ASSOCIATIVE MAX\n",
    "        \n",
    "        # test for repeats and register this for the required report\n",
    "        testScore_uniq_sorted_set = list(set(testScore_uniq_sorted))\n",
    "        repeatScore = []\n",
    "        indexLst = []\n",
    "        for i in testScore_uniq_sorted_set:\n",
    "            if testScore_uniq_sorted.count(i) > 1:\n",
    "                repeatScore.append(i)\n",
    "        ##print(repeatScore)\n",
    "        if repeatScore != []:\n",
    "            repeatScore = repeatScore[0]\n",
    "            finalPlayerLst = []\n",
    "            for i,j in enumerate(testScore_uniq_sorted):\n",
    "                if j == repeatScore:\n",
    "                    finalPlayerLst.append(lst1_uniq_sorted[i])\n",
    "            return finalPlayerLst\n",
    "        else:\n",
    "            return [lst1_uniq_sorted[-1]]"
   ]
  }
 ],
 "metadata": {
  "kernelspec": {
   "display_name": "base",
   "language": "python",
   "name": "python3"
  },
  "language_info": {
   "codemirror_mode": {
    "name": "ipython",
    "version": 3
   },
   "file_extension": ".py",
   "mimetype": "text/x-python",
   "name": "python",
   "nbconvert_exporter": "python",
   "pygments_lexer": "ipython3",
   "version": "3.9.7 (default, Sep 16 2021, 16:59:28) [MSC v.1916 64 bit (AMD64)]"
  },
  "orig_nbformat": 4,
  "vscode": {
   "interpreter": {
    "hash": "a077222d77dfe082b8f1dd562ad70e458ac2ab76993a0b248ab0476e32e9e8dd"
   }
  }
 },
 "nbformat": 4,
 "nbformat_minor": 2
}
