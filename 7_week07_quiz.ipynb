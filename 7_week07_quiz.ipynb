{
 "cells": [
  {
   "attachments": {},
   "cell_type": "markdown",
   "metadata": {},
   "source": [
    "# WEEK 7: Programming Quiz\n",
    "\n",
    "23:59 16/03/2022"
   ]
  },
  {
   "attachments": {},
   "cell_type": "markdown",
   "metadata": {},
   "source": [
    "1. Given the following permutation of a,b,c,d,e,f,g,h,i,j, what is the previous permutation in lexicographic (dictionary) order? Write your answer without any blank spaces between letters.\n",
    "\n",
    "    ```\n",
    "    fjadchbegi\n",
    "    ```\n",
    "\n",
    "    **Answer**\n",
    "    ```\n",
    "    fjadcgiheb\n",
    "    ```"
   ]
  },
  {
   "attachments": {},
   "cell_type": "markdown",
   "metadata": {},
   "source": [
    "2. Assume we have defined a class Node that implements user defined lists of numbers. Each object node of type Node has two attributes node.value and node.next with the usual interpretation. We want to add a function sum() to the class Node which will compute the sum of values in the list. An incomplete implementation of sum() given below. What should be put in place of XXX and YYY?\n",
    "\n",
    "    ```\n",
    "    def sum(self):\n",
    "      if self.value == None:\n",
    "        return(0)\n",
    "      elif self.next == None:\n",
    "        return(XXX)\n",
    "      else:\n",
    "        return(YYY)\n",
    "    ```\n",
    "\n",
    "    **Answer**\n",
    "    ```\n",
    "    Replace XXX by self.value and YYY by self.value + self.next.sum() \n",
    "    ```"
   ]
  },
  {
   "attachments": {},
   "cell_type": "markdown",
   "metadata": {},
   "source": [
    "3. Suppose we add this function foo() to the class Tree that implements search trees. For a name mytree with a value of type Tree, what would mytree.foo() compute?\n",
    "\n",
    "    ```\n",
    "    def foo(self):\n",
    "            if self.isempty():\n",
    "                return(0)\n",
    "            elif self.isleaf():\n",
    "                return(self.value)\n",
    "            else:\n",
    "                return(self.value + max(self.left.foo(),\n",
    "                                        self.right.foo()))\n",
    "    ```\n",
    "\n",
    "    **Answer**\n",
    "\n",
    "    ```\n",
    "    The maximum sum across all root to leaf paths in the tree \n",
    "    ```"
   ]
  },
  {
   "attachments": {},
   "cell_type": "markdown",
   "metadata": {},
   "source": [
    "4. The preorder traversal of a binary search tree with integer values produces the following sequence: 35, 23, 26, 46, 40, 39, 41, 52. What is the value of the right child of the root of the tree?\n",
    "\n",
    "    **Answer**\n",
    "\n",
    "    ```\n",
    "    46\n",
    "    ```"
   ]
  }
 ],
 "metadata": {
  "kernelspec": {
   "display_name": "base",
   "language": "python",
   "name": "python3"
  },
  "language_info": {
   "codemirror_mode": {
    "name": "ipython",
    "version": 3
   },
   "file_extension": ".py",
   "mimetype": "text/x-python",
   "name": "python",
   "nbconvert_exporter": "python",
   "pygments_lexer": "ipython3",
   "version": "3.9.7 (default, Sep 16 2021, 16:59:28) [MSC v.1916 64 bit (AMD64)]"
  },
  "orig_nbformat": 4,
  "vscode": {
   "interpreter": {
    "hash": "a077222d77dfe082b8f1dd562ad70e458ac2ab76993a0b248ab0476e32e9e8dd"
   }
  }
 },
 "nbformat": 4,
 "nbformat_minor": 2
}
