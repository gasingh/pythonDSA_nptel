{
 "cells": [
  {
   "attachments": {},
   "cell_type": "markdown",
   "metadata": {},
   "source": [
    "# WEEK 8: Programming Assignment\n",
    "\n",
    "01:03 23/03/2022 UK GMT!"
   ]
  },
  {
   "attachments": {},
   "cell_type": "markdown",
   "metadata": {},
   "source": [
    "## PROGRAM 1: Find the longest palindrome"
   ]
  },
  {
   "attachments": {},
   "cell_type": "markdown",
   "metadata": {},
   "source": [
    "*(IARCS OPC Archive, K Narayan Kumar, CMI)*\n",
    "\n",
    "As we all know, a palindrome is a word that equals its reverse. Here are some examples of palindromes:`malayalam, gag, appa, amma`.\n",
    "\n",
    "We consider any sequence consisting of the letters of the English alphabet to be a word. So `axxb`,`abbba` and `bbbccddx` are words for our purpose. And `aaabbaaa`, `abbba` and `bbb` are examples of palindromes.\n",
    "\n",
    "By a subword of a word, we mean a contiguous subsequence of the word. For example the subwords of the word `abbba` are `a`, `b`, `ab`, `bb`, `ba`, `abb`, `bbb`, `bba`, `abbb`, `bbba` and `abbba`.\n",
    "\n",
    "In this task you will given a word and you must find the longest subword of this word that is also a palindrome.\n",
    "\n",
    "For example if the given word is `abbba` then the answer is `abbba`. If the given word is `abcbcabbacba` then the answer is `bcabbacb`.\n",
    "\n",
    "**Solution hint**\n",
    "\n",
    "Any subword of `w` that is a palindrome is also a subword when `w` is reversed.\n",
    "\n",
    "**Input format**\n",
    "\n",
    "The first line of the input contains a single integer N indicating the length of the word. The following line contains a single word of length N, made up of the letters a,b,…, z.\n",
    "\n",
    "**Output format**\n",
    "\n",
    "The first line of the output must contain a single integer indicating the length of the longest subword of the given word that is a palindrome. The second line must contain a subword that is a palindrome and which of maximum length. If there is more than one subword palindrome of maximum length, print the one that is lexicographically smallest (i.e., smallest in dictionary order).\n",
    "\n",
    "**Test Data:**\n",
    "\n",
    "You may assume that 1 ≤ N ≤ 5000. You may further assume that in 30% of the inputs 1 ≤ N ≤ 300.\n",
    "\n",
    "**Example:**\n",
    "\n",
    "We illustrate the input and output format using the above examples:\n",
    "\n",
    "**Sample Input 1:**\n",
    "```\n",
    "5\n",
    "abbba\n",
    "```\n",
    "**Sample Output 1:**\n",
    "```\n",
    "5\n",
    "abbba\n",
    "```\n",
    "**Sample Input 2:**\n",
    "```\n",
    "12\n",
    "abcbcabbacba\n",
    "```\n",
    "**Sample Output 2:**\n",
    "```\n",
    "8\n",
    "bcabbacb\n",
    "```"
   ]
  },
  {
   "cell_type": "code",
   "execution_count": null,
   "metadata": {},
   "outputs": [],
   "source": [
    "N = int(input())\n",
    "inputStr = input()\n",
    "\n",
    "possiblePalindromesExtracted = []\n",
    "palindromeCheck = lambda v: (v == v[::-1]) and True or False\n",
    "sortLstByLen = lambda v: sorted(v,key = lambda v: len(v))\n",
    "str1 = \"\"\n",
    "for i in range(len(inputStr)):    # FROM FRONT\n",
    "    for j in range(len(inputStr)-1,i-1,-1):   #FROM BACK\n",
    "         if inputStr[i] == inputStr[j]:\n",
    "              m = inputStr[i:j+1]\n",
    "              if palindromeCheck(m):\n",
    "                  possiblePalindromesExtracted.append(m)\n",
    "str1 = sortLstByLen(possiblePalindromesExtracted)[-1]\n",
    "print(len(str1))\n",
    "print(str1)"
   ]
  }
 ],
 "metadata": {
  "kernelspec": {
   "display_name": "base",
   "language": "python",
   "name": "python3"
  },
  "language_info": {
   "codemirror_mode": {
    "name": "ipython",
    "version": 3
   },
   "file_extension": ".py",
   "mimetype": "text/x-python",
   "name": "python",
   "nbconvert_exporter": "python",
   "pygments_lexer": "ipython3",
   "version": "3.9.7 (default, Sep 16 2021, 16:59:28) [MSC v.1916 64 bit (AMD64)]"
  },
  "orig_nbformat": 4,
  "vscode": {
   "interpreter": {
    "hash": "a077222d77dfe082b8f1dd562ad70e458ac2ab76993a0b248ab0476e32e9e8dd"
   }
  }
 },
 "nbformat": 4,
 "nbformat_minor": 2
}
